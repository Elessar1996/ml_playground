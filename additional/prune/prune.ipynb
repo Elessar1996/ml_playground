{
 "cells": [
  {
   "cell_type": "code",
   "execution_count": 1,
   "metadata": {},
   "outputs": [],
   "source": [
    "import random\n",
    "import numpy as np\n",
    "import pandas as pd\n",
    "import matplotlib.pyplot as plt\n",
    "from sklearn.model_selection import train_test_split\n",
    "from copy import deepcopy\n",
    "\n",
    "import torch\n",
    "import torch.nn as nn\n",
    "import torch.nn.functional as F\n",
    "import torch.optim as optim\n",
    "from torch.utils.data import Dataset, DataLoader\n",
    "from torch.nn.utils.prune import BasePruningMethod"
   ]
  },
  {
   "cell_type": "code",
   "execution_count": 2,
   "metadata": {},
   "outputs": [],
   "source": [
    "DATA_PATH = \"./data/\"\n",
    "seed = 42\n",
    "device = \"cuda\""
   ]
  },
  {
   "cell_type": "code",
   "execution_count": 3,
   "metadata": {},
   "outputs": [],
   "source": [
    "df =  pd.read_csv(DATA_PATH +  \"train.csv\")"
   ]
  },
  {
   "cell_type": "code",
   "execution_count": 4,
   "metadata": {},
   "outputs": [],
   "source": [
    "y = df[\"label\"].values\n",
    "X = df.drop(\"label\", axis=1).values\n",
    "X = X.reshape((len(X), 1,  28, 28))\n",
    "\n",
    "X_train, X_val, y_train, y_val = train_test_split(X, y, test_size=0.3, random_state=seed)"
   ]
  },
  {
   "cell_type": "code",
   "execution_count": 5,
   "metadata": {},
   "outputs": [],
   "source": [
    "class MNIST(Dataset):\n",
    "    def __init__(self, X, y):\n",
    "        self.X = torch.from_numpy(X).float()\n",
    "        self.y = torch.from_numpy(y).long()\n",
    "    \n",
    "    def __len__(self):\n",
    "        return len(self.y)\n",
    "    \n",
    "    def __getitem__(self, idx):\n",
    "        return self.X[idx, :, :, :], self.y[idx]"
   ]
  },
  {
   "cell_type": "code",
   "execution_count": 6,
   "metadata": {},
   "outputs": [],
   "source": [
    "batch_size = 128\n",
    "num_workers = 4\n",
    "\n",
    "train_dataset = MNIST(X_train, y_train)\n",
    "train_dataloader = DataLoader(train_dataset, batch_size=batch_size, num_workers=num_workers, shuffle=True)\n",
    "\n",
    "val_dataset = MNIST(X_val, y_val)\n",
    "val_dataloader = DataLoader(val_dataset, batch_size=batch_size, num_workers=num_workers, shuffle=False)"
   ]
  },
  {
   "cell_type": "code",
   "execution_count": 7,
   "metadata": {},
   "outputs": [],
   "source": [
    "class BNLayer(nn.Module):\n",
    "    def __init__(self, in_channels, out_channels, kernel_size=3, stride=1):\n",
    "        super().__init__()\n",
    "        self.conv = nn.Conv2d(in_channels, out_channels, kernel_size=kernel_size,\n",
    "                              stride=stride, padding=1, bias=False)\n",
    "        self.bn = nn.BatchNorm2d(out_channels)\n",
    "        self.act = nn.ReLU()\n",
    "        \n",
    "    def forward(self, x):\n",
    "        x = self.conv(x)\n",
    "        x = self.bn(x)\n",
    "        x = self.act(x)\n",
    "        return x\n",
    "\n",
    "\n",
    "class Block(nn.Module):\n",
    "    def __init__(self, in_channels, out_channels):\n",
    "        super().__init__()\n",
    "        self.conv_1 = BNLayer(in_channels, in_channels)\n",
    "        self.conv_2 = BNLayer(in_channels, out_channels, stride=2)\n",
    "    \n",
    "    def forward(self, x):\n",
    "        x = self.conv_1(x)\n",
    "        x = self.conv_2(x)\n",
    "        return x\n",
    "    \n",
    "class Net(nn.Module):\n",
    "    def __init__(self, channels, num_classes=10):\n",
    "        super().__init__()\n",
    "        \n",
    "        self.conv_blocks = []\n",
    "        \n",
    "        self.conv_blocks.append(BNLayer(1, channels[0], kernel_size=5))        \n",
    "        for i in range(len(channels) - 1):\n",
    "            self.conv_blocks.append(Block(channels[i], channels[i+1]))\n",
    "        self.conv_blocks = nn.Sequential(*self.conv_blocks)\n",
    "        \n",
    "        self.linear = nn.Linear(32, num_classes)\n",
    "    \n",
    "    def forward(self, x):\n",
    "        x = self.conv_blocks(x)\n",
    "        x = F.adaptive_avg_pool2d(x, 1)\n",
    "        x = x.view(len(x), -1)\n",
    "        x = self.linear(x)\n",
    "        return x"
   ]
  },
  {
   "cell_type": "code",
   "execution_count": 8,
   "metadata": {},
   "outputs": [],
   "source": [
    "torch.manual_seed(seed)\n",
    "\n",
    "channels = [8, 16, 32]\n",
    "model = Net(channels).to(device)"
   ]
  },
  {
   "cell_type": "code",
   "execution_count": 9,
   "metadata": {},
   "outputs": [],
   "source": [
    "num_epochs = 41\n",
    "lr = 1e-4\n",
    "optimizer = optim.Adam(model.parameters(), lr=lr)\n",
    "loss_fct = nn.CrossEntropyLoss()"
   ]
  },
  {
   "cell_type": "code",
   "execution_count": 10,
   "metadata": {},
   "outputs": [],
   "source": [
    "def calculate_accuracy(y_pred, y_true):\n",
    "    y_pred = F.softmax(y_pred, dim=1)\n",
    "    y_pred = torch.argmax(y_pred, dim=1)\n",
    "    correct =  y_pred  == y_true\n",
    "    return torch.mean(correct.float()).numpy()\n",
    "\n",
    "def one_step(model,  optimizer):\n",
    "    train_loss, val_loss =  0.0, 0.0    \n",
    "    val_acc = 0.0\n",
    "    \n",
    "    model.train()\n",
    "    for _, (x, y) in enumerate(train_dataloader):\n",
    "        model.zero_grad()\n",
    "        y, x  = y.to(device), x.to(device)\n",
    "        \n",
    "        y_hat = model(x)\n",
    "        batch_loss = loss_fct(y_hat, y)\n",
    "        batch_loss.backward()\n",
    "        optimizer.step()\n",
    "        \n",
    "        train_loss += batch_loss.detach().cpu().numpy() / len(y)\n",
    "\n",
    "    model.eval()\n",
    "    for _, (x, y) in enumerate(val_dataloader):\n",
    "        y, x  = y.to(device), x.to(device)\n",
    "        y_hat = model(x)\n",
    "        batch_loss = loss_fct(y_hat, y)\n",
    "        val_loss += batch_loss.detach().cpu().numpy() / len(y)\n",
    "        val_acc += calculate_accuracy(y_hat.detach().cpu(), y.cpu())\n",
    "    \n",
    "    train_loss = np.round(train_loss / len(train_dataloader), 6)\n",
    "    val_loss = np.round(val_loss / len(val_dataloader), 6)\n",
    "    val_acc = np.round(val_acc / len(val_dataloader), 6)\n",
    "    \n",
    "    return train_loss, val_loss, val_acc"
   ]
  },
  {
   "cell_type": "code",
   "execution_count": 11,
   "metadata": {
    "scrolled": true
   },
   "outputs": [
    {
     "name": "stdout",
     "output_type": "stream",
     "text": [
      "-------- Epoch 0 --------\n",
      "Train loss: 0.016907\n",
      "Val loss: 0.015979\n",
      "Val acc: 0.349928\n",
      "-------- Epoch 5 --------\n",
      "Train loss: 0.008609\n",
      "Val loss: 0.007993\n",
      "Val acc: 0.864583\n",
      "-------- Epoch 10 --------\n",
      "Train loss: 0.00449\n",
      "Val loss: 0.004218\n",
      "Val acc: 0.940657\n",
      "-------- Epoch 15 --------\n",
      "Train loss: 0.002624\n",
      "Val loss: 0.002471\n",
      "Val acc: 0.954095\n",
      "-------- Epoch 20 --------\n",
      "Train loss: 0.001758\n",
      "Val loss: 0.001699\n",
      "Val acc: 0.962798\n",
      "-------- Epoch 25 --------\n",
      "Train loss: 0.0013\n",
      "Val loss: 0.001278\n",
      "Val acc: 0.968401\n",
      "-------- Epoch 30 --------\n",
      "Train loss: 0.00103\n",
      "Val loss: 0.001021\n",
      "Val acc: 0.972132\n",
      "-------- Epoch 35 --------\n",
      "Train loss: 0.000859\n",
      "Val loss: 0.00088\n",
      "Val acc: 0.975052\n",
      "-------- Epoch 40 --------\n",
      "Train loss: 0.000736\n",
      "Val loss: 0.000785\n",
      "Val acc: 0.977171\n"
     ]
    }
   ],
   "source": [
    "torch.manual_seed(seed)\n",
    "np.random.seed(seed)\n",
    "random.seed(seed)\n",
    "\n",
    "optimizer = optim.Adam(model.parameters(), lr=lr)\n",
    "\n",
    "for epoch in range(num_epochs):\n",
    "    train_loss, val_loss, val_acc = one_step(model, optimizer)\n",
    "    \n",
    "    if epoch % 5 == 0:\n",
    "        print(f\"-------- Epoch {epoch} --------\")\n",
    "        print(f\"Train loss: {train_loss}\")\n",
    "        print(f\"Val loss: {val_loss}\")\n",
    "        print(f\"Val acc: {val_acc}\")"
   ]
  },
  {
   "cell_type": "code",
   "execution_count": 12,
   "metadata": {},
   "outputs": [],
   "source": [
    "class ThresholdPruning(BasePruningMethod):\n",
    "    PRUNING_TYPE = \"unstructured\"\n",
    "\n",
    "    def __init__(self, percentile_threshold):\n",
    "        \n",
    "        if type(percentile_threshold) == float:\n",
    "            percentile_threshold = percentile_threshold * 100\n",
    "        self.percentile_threshold = percentile_threshold\n",
    "\n",
    "    def compute_mask(self, t, default_mask):\n",
    "        threshold = np.percentile(np.abs(t.detach().cpu().numpy()), self.percentile_threshold)\n",
    "        return torch.abs(t) > threshold\n",
    "    \n",
    "    @classmethod\n",
    "    def apply(cls, module, name, percentile_threshold):\n",
    "        return super(ThresholdPruning, cls).apply(module, name, percentile_threshold)"
   ]
  },
  {
   "cell_type": "code",
   "execution_count": 13,
   "metadata": {},
   "outputs": [],
   "source": [
    "def prune_conv(model,  amount):\n",
    "    for module in model.modules():\n",
    "        if type(module) == nn.Conv2d:\n",
    "            ThresholdPruning.apply(module, \"weight\", amount)"
   ]
  },
  {
   "cell_type": "code",
   "execution_count": 14,
   "metadata": {},
   "outputs": [],
   "source": [
    "torch.manual_seed(seed)\n",
    "np.random.seed(seed)\n",
    "random.seed(seed)\n",
    "\n",
    "global_prune_amount = [i  /  10 for i in range(1, 10)]\n",
    "global_acc = []\n",
    "\n",
    "for p in global_prune_amount:\n",
    "    global_prune_model = deepcopy(model)\n",
    "    prune_conv(global_prune_model, p)\n",
    "    prune_global_optimizer = optim.Adam(global_prune_model.parameters(), lr=lr)\n",
    "\n",
    "    for epoch in range(5):\n",
    "        _, _, val_acc = one_step(global_prune_model, prune_global_optimizer)\n",
    "    global_acc.append(val_acc)"
   ]
  },
  {
   "cell_type": "code",
   "execution_count": 15,
   "metadata": {},
   "outputs": [
    {
     "data": {
      "image/png": "[encoded data removed]",
      "text/plain": [
       "<Figure size 432x288 with 1 Axes>"
      ]
     },
     "metadata": {
      "needs_background": "light"
     },
     "output_type": "display_data"
    }
   ],
   "source": [
    "plt.scatter(global_prune_amount, global_acc)\n",
    "plt.xlabel(\"Amount of pruning\")\n",
    "plt.ylabel(\"Accruacy\")\n",
    "plt.show()"
   ]
  },
  {
   "cell_type": "code",
   "execution_count": null,
   "metadata": {},
   "outputs": [],
   "source": [
    "t = nn.Conv2d(2, 4, kernel_size=3)\n",
    "\n",
    "ThresholdPruning.apply(t, \"weight\", 50)"
   ]
  },
  {
   "cell_type": "code",
   "execution_count": null,
   "metadata": {},
   "outputs": [],
   "source": [
    "t.weight"
   ]
  },
  {
   "cell_type": "code",
   "execution_count": null,
   "metadata": {},
   "outputs": [],
   "source": [
    "torch.sum(torch.abs(t.weight) > 0).float() / (3 * 3 * 4  * 2)"
   ]
  },
  {
   "cell_type": "code",
   "execution_count": null,
   "metadata": {},
   "outputs": [],
   "source": [
    "ThresholdPruning.apply(t, \"weight\", 60)\n",
    "t.weight"
   ]
  },
  {
   "cell_type": "code",
   "execution_count": null,
   "metadata": {},
   "outputs": [],
   "source": [
    "torch.sum(torch.abs(t.weight) > 0).float() / (3 * 3 * 4  * 2)"
   ]
  }
 ],
 "metadata": {
  "kernelspec": {
   "display_name": "Python 3",
   "language": "python",
   "name": "python3"
  },
  "language_info": {
   "codemirror_mode": {
    "name": "ipython",
    "version": 3
   },
   "file_extension": ".py",
   "mimetype": "text/x-python",
   "name": "python",
   "nbconvert_exporter": "python",
   "pygments_lexer": "ipython3",
   "version": "3.7.4"
  }
 },
 "nbformat": 4,
 "nbformat_minor": 2
}
